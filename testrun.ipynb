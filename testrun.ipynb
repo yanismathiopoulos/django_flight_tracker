{
 "cells": [
  {
   "cell_type": "code",
   "execution_count": 1,
   "metadata": {},
   "outputs": [],
   "source": [
    "from django_flight_tracker.flightsearch import *"
   ]
  },
  {
   "cell_type": "code",
   "execution_count": 16,
   "metadata": {},
   "outputs": [],
   "source": [
    "inputs_round = {\n",
    "    'apikey': 'hsgRmFhjJRKIzN6o0MEovJXr9VJFxQQh',\n",
    "    'num_results': 5,\n",
    "    'flight_type': 'round',\n",
    "    'fly_from': 'madrid',\n",
    "    'fly_to': 'barcelona',\n",
    "    'date_from': '01/12/2020',\n",
    "    'date_to': '01/12/2020',\n",
    "    'return_from': '15/12/2020',\n",
    "    'return_to': '15/12/2020',\n",
    "#     'nights_in_dst_from': 5, \n",
    "#     'nights_in_dst_to': 15,\n",
    "#     'max_fly_duration': 25,\n",
    "    'selected_cabins': 'M',  # M (economy), W (economy premium), C (business), F (first class)\n",
    "    'partner_market': 'es',\n",
    "    'locale': 'us',\n",
    "    'curr': 'EUR',\n",
    "    'price_from': 0,\n",
    "    'price_to': 1000,\n",
    "    'max_stopovers': 3,\n",
    "    'sort': 'price',\n",
    "    'asc': 1\n",
    "}"
   ]
  },
  {
   "cell_type": "code",
   "execution_count": 4,
   "metadata": {},
   "outputs": [
    {
     "name": "stdout",
     "output_type": "stream",
     "text": [
      "Getting the data...\n",
      "Data loaded from cache\n",
      "Getting the data...\n",
      "Data loaded from cache\n"
     ]
    }
   ],
   "source": [
    "n=10\n",
    "parameters=inputs_round\n",
    "parameters['fly_from'] = to_iata_code(apikey, parameters['fly_from'])\n",
    "parameters['fly_to'] = to_iata_code(apikey, parameters['fly_to'])\n",
    "# parameters"
   ]
  },
  {
   "cell_type": "code",
   "execution_count": 5,
   "metadata": {
    "scrolled": true
   },
   "outputs": [
    {
     "ename": "NameError",
     "evalue": "name 'response_json' is not defined",
     "output_type": "error",
     "traceback": [
      "\u001b[1;31m---------------------------------------------------------------------------\u001b[0m",
      "\u001b[1;31mNameError\u001b[0m                                 Traceback (most recent call last)",
      "\u001b[1;32m<ipython-input-5-bd2fd9541ea4>\u001b[0m in \u001b[0;36m<module>\u001b[1;34m()\u001b[0m\n\u001b[1;32m----> 1\u001b[1;33m \u001b[0mresponse_json\u001b[0m\u001b[1;33m[\u001b[0m\u001b[1;34m'data'\u001b[0m\u001b[1;33m]\u001b[0m\u001b[1;33m[\u001b[0m\u001b[1;36m0\u001b[0m\u001b[1;33m]\u001b[0m\u001b[1;33m\u001b[0m\u001b[0m\n\u001b[0m",
      "\u001b[1;31mNameError\u001b[0m: name 'response_json' is not defined"
     ]
    }
   ],
   "source": [
    "response_json['data'][0]"
   ]
  },
  {
   "cell_type": "code",
   "execution_count": 6,
   "metadata": {},
   "outputs": [
    {
     "ename": "NameError",
     "evalue": "name 'options' is not defined",
     "output_type": "error",
     "traceback": [
      "\u001b[1;31m---------------------------------------------------------------------------\u001b[0m",
      "\u001b[1;31mNameError\u001b[0m                                 Traceback (most recent call last)",
      "\u001b[1;32m<ipython-input-6-a545fa1932f8>\u001b[0m in \u001b[0;36m<module>\u001b[1;34m()\u001b[0m\n\u001b[1;32m----> 1\u001b[1;33m \u001b[0moptions\u001b[0m\u001b[1;33m[\u001b[0m\u001b[1;36m0\u001b[0m\u001b[1;33m]\u001b[0m\u001b[1;33m.\u001b[0m\u001b[0moutbound\u001b[0m\u001b[1;33m.\u001b[0m\u001b[0mflights\u001b[0m\u001b[1;33m[\u001b[0m\u001b[1;36m1\u001b[0m\u001b[1;33m]\u001b[0m\u001b[1;33m.\u001b[0m\u001b[0m__dict__\u001b[0m\u001b[1;33m\u001b[0m\u001b[0m\n\u001b[0m",
      "\u001b[1;31mNameError\u001b[0m: name 'options' is not defined"
     ]
    }
   ],
   "source": [
    "options[0].outbound.flights[1].__dict__"
   ]
  },
  {
   "cell_type": "code",
   "execution_count": 7,
   "metadata": {},
   "outputs": [
    {
     "name": "stdout",
     "output_type": "stream",
     "text": [
      "Getting the data...\n",
      "Request was successful, data was downloaded from kiwi\n"
     ]
    },
    {
     "ename": "TypeError",
     "evalue": "print_n_options() missing 1 required positional argument: 'apikey'",
     "output_type": "error",
     "traceback": [
      "\u001b[1;31m---------------------------------------------------------------------------\u001b[0m",
      "\u001b[1;31mTypeError\u001b[0m                                 Traceback (most recent call last)",
      "\u001b[1;32m<ipython-input-7-10c74ae7e7b2>\u001b[0m in \u001b[0;36m<module>\u001b[1;34m()\u001b[0m\n\u001b[0;32m      5\u001b[0m     \u001b[1;31m# save_stdout = sys.stdout\u001b[0m\u001b[1;33m\u001b[0m\u001b[1;33m\u001b[0m\u001b[0m\n\u001b[0;32m      6\u001b[0m     \u001b[1;31m# sys.stdout = io.BytesIO()\u001b[0m\u001b[1;33m\u001b[0m\u001b[1;33m\u001b[0m\u001b[0m\n\u001b[1;32m----> 7\u001b[1;33m     \u001b[0mfirst_n_options\u001b[0m \u001b[1;33m=\u001b[0m \u001b[0mprint_n_options\u001b[0m\u001b[1;33m(\u001b[0m\u001b[0moptions\u001b[0m\u001b[1;33m,\u001b[0m \u001b[0mn\u001b[0m\u001b[1;33m,\u001b[0m \u001b[0mapikey\u001b[0m\u001b[1;33m)\u001b[0m\u001b[1;33m\u001b[0m\u001b[0m\n\u001b[0m\u001b[0;32m      8\u001b[0m     \u001b[1;31m# TODO suppress print\u001b[0m\u001b[1;33m\u001b[0m\u001b[1;33m\u001b[0m\u001b[0m\n\u001b[0;32m      9\u001b[0m     \u001b[1;31m# sys.stdout = save_stdout\u001b[0m\u001b[1;33m\u001b[0m\u001b[1;33m\u001b[0m\u001b[0m\n",
      "\u001b[1;31mTypeError\u001b[0m: print_n_options() missing 1 required positional argument: 'apikey'"
     ]
    }
   ],
   "source": [
    "response_json = download_data(apikey, api=\"https://kiwicom-prod.apigee.net/v2/search?\",\n",
    "                              parameters=parameters, cache_expire_after=3600)\n",
    "if response_json is not None:\n",
    "    options = ResponseData(response_json['data']).options\n",
    "    # save_stdout = sys.stdout\n",
    "    # sys.stdout = io.BytesIO()\n",
    "    first_n_options = print_n_options(options, n, apikey)\n",
    "    # TODO suppress print\n",
    "    # sys.stdout = save_stdout\n",
    "    # print(\"captured_stdout\", sys.stdout)\n",
    "else:\n",
    "    print(\"There is no response\")\n",
    "    first_n_options = None"
   ]
  },
  {
   "cell_type": "code",
   "execution_count": 35,
   "metadata": {},
   "outputs": [
    {
     "data": {
      "text/plain": [
       "{'search_id': '4f548298-7fcb-4f91-9b9a-ad36589f7c54',\n",
       " 'data': [],\n",
       " 'connections': [],\n",
       " 'time': 1,\n",
       " 'currency': 'EUR',\n",
       " 'currency_rate': 1,\n",
       " 'fx_rate': 1,\n",
       " 'refresh': [],\n",
       " 'del': None,\n",
       " 'ref_tasks': [],\n",
       " 'search_params': {'flyFrom_type': 'airport',\n",
       "  'to_type': 'airport',\n",
       "  'seats': {'passengers': 1, 'adults': 1, 'children': 0, 'infants': 0}},\n",
       " 'all_stopover_airports': [],\n",
       " 'all_airlines': []}"
      ]
     },
     "execution_count": 35,
     "metadata": {},
     "output_type": "execute_result"
    }
   ],
   "source": [
    "response_json"
   ]
  },
  {
   "cell_type": "code",
   "execution_count": null,
   "metadata": {},
   "outputs": [],
   "source": []
  },
  {
   "cell_type": "code",
   "execution_count": 8,
   "metadata": {},
   "outputs": [
    {
     "ename": "TypeError",
     "evalue": "search() missing 1 required positional argument: 'flight_type'",
     "output_type": "error",
     "traceback": [
      "\u001b[1;31m---------------------------------------------------------------------------\u001b[0m",
      "\u001b[1;31mTypeError\u001b[0m                                 Traceback (most recent call last)",
      "\u001b[1;32m<ipython-input-8-882b4e5246ae>\u001b[0m in \u001b[0;36m<module>\u001b[1;34m()\u001b[0m\n\u001b[0;32m      1\u001b[0m content = search(apikey=apikey,\n\u001b[0;32m      2\u001b[0m                  \u001b[0mn\u001b[0m\u001b[1;33m=\u001b[0m\u001b[1;36m10\u001b[0m\u001b[1;33m,\u001b[0m\u001b[1;33m\u001b[0m\u001b[0m\n\u001b[1;32m----> 3\u001b[1;33m                  parameters=inputs_round)\n\u001b[0m",
      "\u001b[1;31mTypeError\u001b[0m: search() missing 1 required positional argument: 'flight_type'"
     ]
    }
   ],
   "source": [
    "content = search(flightapikey=apikey,\n",
    "                 n=10,\n",
    "                 parameters=inputs_round)"
   ]
  },
  {
   "cell_type": "code",
   "execution_count": 27,
   "metadata": {},
   "outputs": [
    {
     "data": {
      "text/plain": [
       "{}"
      ]
     },
     "execution_count": 27,
     "metadata": {},
     "output_type": "execute_result"
    }
   ],
   "source": [
    "content"
   ]
  },
  {
   "cell_type": "code",
   "execution_count": 15,
   "metadata": {},
   "outputs": [
    {
     "data": {
      "text/plain": [
       "True"
      ]
     },
     "execution_count": 15,
     "metadata": {},
     "output_type": "execute_result"
    }
   ],
   "source": [
    "content=={}"
   ]
  },
  {
   "cell_type": "code",
   "execution_count": 12,
   "metadata": {},
   "outputs": [
    {
     "data": {
      "text/plain": [
       "False"
      ]
     },
     "execution_count": 12,
     "metadata": {},
     "output_type": "execute_result"
    }
   ],
   "source": [
    "content is empty"
   ]
  },
  {
   "cell_type": "code",
   "execution_count": null,
   "metadata": {},
   "outputs": [],
   "source": [
    "            if content is not None:\n",
    "                r = render(request, 'result.html', context={'content': content})\n",
    "            elif not content:\n",
    "                r = render(request, 'no_results.html')\n",
    "            else:\n",
    "                r = render(request, 'unsuccessful_request.html')"
   ]
  },
  {
   "cell_type": "code",
   "execution_count": null,
   "metadata": {},
   "outputs": [],
   "source": []
  },
  {
   "cell_type": "code",
   "execution_count": 4,
   "metadata": {
    "scrolled": true
   },
   "outputs": [
    {
     "name": "stdout",
     "output_type": "stream",
     "text": [
      "Getting the data...\n",
      "Request was successful, data was downloaded from kiwi\n",
      "--OPTION  1\n",
      "link:  http://tinyurl.com/y7s4rbor\n",
      "price:  536\n",
      "total duration:  42h05m\n",
      "\n",
      "\n",
      "outbound (duration: {'duration': '24h50m'})\n",
      "airlines:  ['Ryanair', 'AeroMéxico']\n",
      "from:  ATH\n",
      "via 1 stop(s): ['MAD']\n",
      "to:  MEX\n",
      "departure time:  Wed 14-Oct-2020 11:35\n",
      "arrival time:  Thu 15-Oct-2020 04:25\n",
      "\n",
      "\n",
      "inbound (duration: {'duration': '17h15m'})\n",
      "airlines:  ['AeroMéxico', 'Ryanair']\n",
      "from:  MEX\n",
      "via 1 stop(s): ['MAD']\n",
      "to:  ATH\n",
      "departure time:  Thu 22-Oct-2020 11:15\n",
      "arrival time:  Fri 23-Oct-2020 12:30\n",
      "\n",
      "\n",
      "\n",
      "\n",
      "--OPTION  2\n",
      "link:  http://tinyurl.com/y7l9foz2\n",
      "price:  537\n",
      "total duration:  40h30m\n",
      "\n",
      "\n",
      "outbound (duration: {'duration': '23h30m'})\n",
      "airlines:  ['Ryanair', 'AeroMéxico']\n",
      "from:  ATH\n",
      "via 1 stop(s): ['MAD']\n",
      "to:  MEX\n",
      "departure time:  Fri 09-Oct-2020 12:55\n",
      "arrival time:  Sat 10-Oct-2020 04:25\n",
      "\n",
      "\n",
      "inbound (duration: {'duration': '17h00m'})\n",
      "airlines:  ['AeroMéxico', 'Air Europa']\n",
      "from:  MEX\n",
      "via 1 stop(s): ['MAD']\n",
      "to:  ATH\n",
      "departure time:  Fri 16-Oct-2020 23:55\n",
      "arrival time:  Sun 18-Oct-2020 00:55\n",
      "\n",
      "\n",
      "\n",
      "\n",
      "--OPTION  3\n",
      "link:  http://tinyurl.com/y75s63rk\n",
      "price:  537\n",
      "total duration:  40h30m\n",
      "\n",
      "\n",
      "outbound (duration: {'duration': '23h30m'})\n",
      "airlines:  ['Ryanair', 'AeroMéxico']\n",
      "from:  ATH\n",
      "via 1 stop(s): ['MAD']\n",
      "to:  MEX\n",
      "departure time:  Fri 09-Oct-2020 12:55\n",
      "arrival time:  Sat 10-Oct-2020 04:25\n",
      "\n",
      "\n",
      "inbound (duration: {'duration': '17h00m'})\n",
      "airlines:  ['AeroMéxico', 'Air Europa']\n",
      "from:  MEX\n",
      "via 1 stop(s): ['MAD']\n",
      "to:  ATH\n",
      "departure time:  Fri 23-Oct-2020 23:55\n",
      "arrival time:  Sun 25-Oct-2020 00:55\n",
      "\n",
      "\n",
      "\n",
      "\n",
      "--OPTION  4\n",
      "link:  http://tinyurl.com/yc2yfx4u\n",
      "price:  541\n",
      "total duration:  40h30m\n",
      "\n",
      "\n",
      "outbound (duration: {'duration': '23h30m'})\n",
      "airlines:  ['Ryanair', 'AeroMéxico']\n",
      "from:  ATH\n",
      "via 1 stop(s): ['MAD']\n",
      "to:  MEX\n",
      "departure time:  Fri 09-Oct-2020 12:55\n",
      "arrival time:  Sat 10-Oct-2020 04:25\n",
      "\n",
      "\n",
      "inbound (duration: {'duration': '17h00m'})\n",
      "airlines:  ['AeroMéxico', 'Iberia Airlines']\n",
      "from:  MEX\n",
      "via 1 stop(s): ['MAD']\n",
      "to:  ATH\n",
      "departure time:  Mon 19-Oct-2020 18:30\n",
      "arrival time:  Tue 20-Oct-2020 19:30\n",
      "\n",
      "\n",
      "\n",
      "\n",
      "--OPTION  5\n",
      "link:  http://tinyurl.com/y9pjj8tj\n",
      "price:  541\n",
      "total duration:  41h50m\n",
      "\n",
      "\n",
      "outbound (duration: {'duration': '24h50m'})\n",
      "airlines:  ['Ryanair', 'AeroMéxico']\n",
      "from:  ATH\n",
      "via 1 stop(s): ['MAD']\n",
      "to:  MEX\n",
      "departure time:  Wed 14-Oct-2020 11:35\n",
      "arrival time:  Thu 15-Oct-2020 04:25\n",
      "\n",
      "\n",
      "inbound (duration: {'duration': '17h00m'})\n",
      "airlines:  ['AeroMéxico', 'Iberia Airlines']\n",
      "from:  MEX\n",
      "via 1 stop(s): ['MAD']\n",
      "to:  ATH\n",
      "departure time:  Thu 22-Oct-2020 18:30\n",
      "arrival time:  Fri 23-Oct-2020 19:30\n",
      "\n",
      "\n",
      "\n",
      "\n",
      "--OPTION  6\n",
      "link:  http://tinyurl.com/y7we9sgm\n",
      "price:  541\n",
      "total duration:  43h10m\n",
      "\n",
      "\n",
      "outbound (duration: {'duration': '23h30m'})\n",
      "airlines:  ['Ryanair', 'AeroMéxico']\n",
      "from:  ATH\n",
      "via 1 stop(s): ['MAD']\n",
      "to:  MEX\n",
      "departure time:  Fri 09-Oct-2020 12:55\n",
      "arrival time:  Sat 10-Oct-2020 04:25\n",
      "\n",
      "\n",
      "inbound (duration: {'duration': '19h40m'})\n",
      "airlines:  ['AeroMéxico', 'Iberia Airlines']\n",
      "from:  MEX\n",
      "via 1 stop(s): ['MAD']\n",
      "to:  ATH\n",
      "departure time:  Mon 19-Oct-2020 11:15\n",
      "arrival time:  Tue 20-Oct-2020 14:55\n",
      "\n",
      "\n",
      "\n",
      "\n",
      "--OPTION  7\n",
      "link:  http://tinyurl.com/ycskzoqw\n",
      "price:  541\n",
      "total duration:  43h10m\n",
      "\n",
      "\n",
      "outbound (duration: {'duration': '23h30m'})\n",
      "airlines:  ['Ryanair', 'AeroMéxico']\n",
      "from:  ATH\n",
      "via 1 stop(s): ['MAD']\n",
      "to:  MEX\n",
      "departure time:  Sun 04-Oct-2020 12:55\n",
      "arrival time:  Mon 05-Oct-2020 04:25\n",
      "\n",
      "\n",
      "inbound (duration: {'duration': '19h40m'})\n",
      "airlines:  ['AeroMéxico', 'Iberia Airlines']\n",
      "from:  MEX\n",
      "via 1 stop(s): ['MAD']\n",
      "to:  ATH\n",
      "departure time:  Fri 16-Oct-2020 11:15\n",
      "arrival time:  Sat 17-Oct-2020 14:55\n",
      "\n",
      "\n",
      "\n",
      "\n",
      "--OPTION  8\n",
      "link:  http://tinyurl.com/y8gj5th2\n",
      "price:  544\n",
      "total duration:  41h50m\n",
      "\n",
      "\n",
      "outbound (duration: {'duration': '24h50m'})\n",
      "airlines:  ['Ryanair', 'AeroMéxico']\n",
      "from:  ATH\n",
      "via 1 stop(s): ['MAD']\n",
      "to:  MEX\n",
      "departure time:  Wed 07-Oct-2020 11:35\n",
      "arrival time:  Thu 08-Oct-2020 04:25\n",
      "\n",
      "\n",
      "inbound (duration: {'duration': '17h00m'})\n",
      "airlines:  ['AeroMéxico', 'Air Europa']\n",
      "from:  MEX\n",
      "via 1 stop(s): ['MAD']\n",
      "to:  ATH\n",
      "departure time:  Fri 23-Oct-2020 23:55\n",
      "arrival time:  Sun 25-Oct-2020 00:55\n",
      "\n",
      "\n",
      "\n",
      "\n",
      "--OPTION  9\n",
      "link:  http://tinyurl.com/yahf3k8n\n",
      "price:  547\n",
      "total duration:  40h30m\n",
      "\n",
      "\n",
      "outbound (duration: {'duration': '23h30m'})\n",
      "airlines:  ['Ryanair', 'AeroMéxico']\n",
      "from:  ATH\n",
      "via 1 stop(s): ['MAD']\n",
      "to:  MEX\n",
      "departure time:  Fri 09-Oct-2020 12:55\n",
      "arrival time:  Sat 10-Oct-2020 04:25\n",
      "\n",
      "\n",
      "inbound (duration: {'duration': '17h00m'})\n",
      "airlines:  ['AeroMéxico', 'Iberia Airlines']\n",
      "from:  MEX\n",
      "via 1 stop(s): ['MAD']\n",
      "to:  ATH\n",
      "departure time:  Wed 21-Oct-2020 18:30\n",
      "arrival time:  Thu 22-Oct-2020 19:30\n",
      "\n",
      "\n",
      "\n",
      "\n",
      "--OPTION  10\n",
      "link:  http://tinyurl.com/ybm6yftc\n",
      "price:  547\n",
      "total duration:  43h10m\n",
      "\n",
      "\n",
      "outbound (duration: {'duration': '23h30m'})\n",
      "airlines:  ['Ryanair', 'AeroMéxico']\n",
      "from:  ATH\n",
      "via 1 stop(s): ['MAD']\n",
      "to:  MEX\n",
      "departure time:  Fri 09-Oct-2020 12:55\n",
      "arrival time:  Sat 10-Oct-2020 04:25\n",
      "\n",
      "\n",
      "inbound (duration: {'duration': '19h40m'})\n",
      "airlines:  ['AeroMéxico', 'Iberia Airlines']\n",
      "from:  MEX\n",
      "via 1 stop(s): ['MAD']\n",
      "to:  ATH\n",
      "departure time:  Fri 16-Oct-2020 11:15\n",
      "arrival time:  Sat 17-Oct-2020 14:55\n",
      "\n",
      "\n",
      "\n",
      "\n"
     ]
    }
   ],
   "source": [
    "parameters = inputs_round\n",
    "n=10\n",
    "\n",
    "# response_json = download_data(apikey, parameters)\n",
    "# options = ResponseData(response_json['data']).options\n",
    "# first_n_options = print_n_options(options, n)\n",
    "# first_n_options = options_to_dict(options, n)\n",
    "\n",
    "first_n_options = search(apikey, parameters, n)"
   ]
  },
  {
   "cell_type": "code",
   "execution_count": 3,
   "metadata": {},
   "outputs": [
    {
     "data": {
      "text/plain": [
       "{'option': 1,\n",
       " 'link': 'http://tinyurl.com/y837w7dq',\n",
       " 'price': 538,\n",
       " 'duration_total': '43h55m',\n",
       " 'outbound': {'duration': '20h40m',\n",
       "  'lst_airlines': ['Olympic Airlines', 'Aegean Airlines', 'Iberia Airlines'],\n",
       "  'from': 'RHO',\n",
       "  'lst_stops': ['ATH'],\n",
       "  'to': 'MIA',\n",
       "  'departure_time': 'Fri 16-Oct-2020 06:35',\n",
       "  'arrival_time': 'Fri 23-Oct-2020 23:05'},\n",
       " 'inbound': {'duration': '23h15m',\n",
       "  'lst_airlines': ['Iberia Airlines', 'Aegean Airlines', 'Olympic Airlines'],\n",
       "  'from': 'MIA',\n",
       "  'lst_stops': ['MAD', 'ATH'],\n",
       "  'to': 'RHO',\n",
       "  'departure_time': 'Fri 16-Oct-2020 06:35',\n",
       "  'arrival_time': 'Fri 23-Oct-2020 23:05'}}"
      ]
     },
     "execution_count": 3,
     "metadata": {},
     "output_type": "execute_result"
    }
   ],
   "source": [
    "first_n_options[1]"
   ]
  },
  {
   "cell_type": "code",
   "execution_count": 5,
   "metadata": {},
   "outputs": [
    {
     "data": {
      "text/plain": [
       "{'id': '136d07f0489b0000f7a274ea_0|136d07f0489b0000f7a274ea_1|07f00f6b489b0000e9987cfb_0|07f00f6b489b0000e9987cfb_1|0f6b060c48a600001de5ae9a_0|0f6b060c48a600001de5ae9a_1|060c136d48a70000eef29b8e_0|060c136d48a70000eef29b8e_1',\n",
       " 'deep_link': 'https://www.kiwi.com/deep?from=RHO&to=MIA&departure=21-11-2020&return=02-12-2020&flightsId=136d07f0489b0000f7a274ea_0%7C136d07f0489b0000f7a274ea_1%7C07f00f6b489b0000e9987cfb_0%7C07f00f6b489b0000e9987cfb_1%7C0f6b060c48a600001de5ae9a_0%7C0f6b060c48a600001de5ae9a_1%7C060c136d48a70000eef29b8e_0%7C060c136d48a70000eef29b8e_1&price=529&passengers=1&affilid=yanismathiotest&lang=us&currency=EUR&booking_token=A_a5VVRRmZNdm2nBr10a3NN1T6kG66jB06UpXHIAtmqRoADLO3R9XLGB5aDfYW434US-hfwHtA0prm5JHi1mSEIznsIzuDn_r2DK-Wt3THW0Wltpd2Zwu_eZkCDZ3CZ-7uaiRbqI8wYcGiLy4g6VN0qGICt6Ef0zZciaxSjmXrpbYHcON4wSVXlVb2RH12744GJKgKf-XGJ56rhK_e4TaYarN5VZ7oSvIyhXOI8cogPeGKJ8bdRtCqIQrw0I-TDRNH59Tuy2KXPWcWqNnnx5rjUNAltAIsNHGwxlYMnxUQDz65FKXTbvnyXiWn3ve3aCclG8IH899HP9Wq8YqWfCx5U_s57ACLyHO-oxhzogRGA6rUBFRVRHFo61HpMh-3JptJ7YRuc5pkMEqUQ33dArL0KHMfssYlUF4thxCqyeXZAB8x9HAHxif_MHfpn1pC1t0uQrXO122OVL4AGez-f4ZqZ7LvGr4qhNvXzous0r9vhU41nS_JD0C9uoo_Wk5IzuXwClZdFdj7PPhxMDUKu1OxQ8C9_ZiHL-ixNDEtPYST-hpAcIcmT94Qw1syHJo3hH_koABrNC8Evt8ba5asyAjChfw8Faa0PBL1QdgUPbZ13xMS7k9jPj4JVO518Ppilws7GefYXwD-WU8K6D4Kn3kSGWIakvfUIUH59AkV2jOsUdINCZ9zHqsQORUbiRjXRS6IHPwgrtKYkC2dvHIJg0L-gfupmVkK5VLNqgPUyz1E5uVkESk7NBextsWViq0szhKL-TinIRblaejDiPIqDs_5l4VaSiQVUiPvFZqFgMSdQmPXt39EtzOLu2oWyrpLkYlnbi73celzidf3ah_PlZCzg==',\n",
       " 'price': 529,\n",
       " 'duration_total': 160200,\n",
       " 'duration_outbound': 77400,\n",
       " 'duration_inbound': 82800,\n",
       " 'outbound': <django_flight_tracker.flightsearch.Outbound at 0x1c3d5c1a748>,\n",
       " 'inbound': <django_flight_tracker.flightsearch.Inbound at 0x1c3d5c1a780>}"
      ]
     },
     "execution_count": 5,
     "metadata": {},
     "output_type": "execute_result"
    }
   ],
   "source": [
    "options[0].__dict__"
   ]
  },
  {
   "cell_type": "code",
   "execution_count": null,
   "metadata": {},
   "outputs": [],
   "source": []
  },
  {
   "cell_type": "code",
   "execution_count": 17,
   "metadata": {},
   "outputs": [],
   "source": [
    "parameters = {k: v for (k, v) in inputs_round.items() if\n",
    "              k not in ('apikey', 'num_results') and\n",
    "              v is not None}"
   ]
  },
  {
   "cell_type": "code",
   "execution_count": 18,
   "metadata": {},
   "outputs": [
    {
     "name": "stdout",
     "output_type": "stream",
     "text": [
      "Getting the data...\n",
      "Data loaded from cache\n",
      "Getting the data...\n",
      "Data loaded from cache\n",
      "Getting the data...\n",
      "Data loaded from cache\n",
      "--OPTION  1\n",
      "link:  http://tinyurl.com/y7kolz8u\n",
      "price:  89\n",
      "total duration:  5h40m\n",
      "\n",
      "\n",
      "outbound (duration: {'duration': '1h15m'})\n",
      "airlines:  ['Formosa Airlines']\n",
      "from:  MAD\n",
      "via 0 stop(s): []\n",
      "to:  BCN\n",
      "departure time:  Tue 01-Dec-2020 09:05\n",
      "arrival time:  Tue 01-Dec-2020 10:20\n",
      "inbound (duration: {'duration': '4h25m'})\n",
      "airlines:  ['Ryanair', 'Iberia Express']\n",
      "from:  BCN\n",
      "Getting the data...\n",
      "Data loaded from cache\n",
      "via 1 stop(s): ['Palma, Majorca']\n",
      "to:  MAD\n",
      "departure time:  Tue 15-Dec-2020 18:30\n",
      "arrival time:  Tue 15-Dec-2020 22:55\n",
      "\n",
      "\n",
      "\n",
      "\n",
      "--OPTION  2\n",
      "link:  http://tinyurl.com/y8bot6g2\n",
      "price:  89\n",
      "total duration:  5h40m\n",
      "\n",
      "\n",
      "outbound (duration: {'duration': '1h15m'})\n",
      "airlines:  ['Formosa Airlines']\n",
      "from:  MAD\n",
      "via 0 stop(s): []\n",
      "to:  BCN\n",
      "departure time:  Tue 01-Dec-2020 09:45\n",
      "arrival time:  Tue 01-Dec-2020 11:00\n",
      "inbound (duration: {'duration': '4h25m'})\n",
      "airlines:  ['Ryanair', 'Iberia Express']\n",
      "from:  BCN\n",
      "Getting the data...\n",
      "Data loaded from cache\n",
      "via 1 stop(s): ['Palma, Majorca']\n",
      "to:  MAD\n",
      "departure time:  Tue 15-Dec-2020 18:30\n",
      "arrival time:  Tue 15-Dec-2020 22:55\n",
      "\n",
      "\n",
      "\n",
      "\n",
      "--OPTION  3\n",
      "link:  http://tinyurl.com/ybyuf54u\n",
      "price:  89\n",
      "total duration:  5h40m\n",
      "\n",
      "\n",
      "outbound (duration: {'duration': '1h15m'})\n",
      "airlines:  ['Formosa Airlines']\n",
      "from:  MAD\n",
      "via 0 stop(s): []\n",
      "to:  BCN\n",
      "departure time:  Tue 01-Dec-2020 15:00\n",
      "arrival time:  Tue 01-Dec-2020 16:15\n",
      "inbound (duration: {'duration': '4h25m'})\n",
      "airlines:  ['Ryanair', 'Iberia Express']\n",
      "from:  BCN\n",
      "Getting the data...\n",
      "Data loaded from cache\n",
      "via 1 stop(s): ['Palma, Majorca']\n",
      "to:  MAD\n",
      "departure time:  Tue 15-Dec-2020 18:30\n",
      "arrival time:  Tue 15-Dec-2020 22:55\n",
      "\n",
      "\n",
      "\n",
      "\n",
      "--OPTION  4\n",
      "link:  http://tinyurl.com/ycanq3g6\n",
      "price:  89\n",
      "total duration:  5h40m\n",
      "\n",
      "\n",
      "outbound (duration: {'duration': '1h15m'})\n",
      "airlines:  ['Formosa Airlines']\n",
      "from:  MAD\n",
      "via 0 stop(s): []\n",
      "to:  BCN\n",
      "departure time:  Tue 01-Dec-2020 16:55\n",
      "arrival time:  Tue 01-Dec-2020 18:10\n",
      "inbound (duration: {'duration': '4h25m'})\n",
      "airlines:  ['Ryanair', 'Iberia Express']\n",
      "from:  BCN\n",
      "Getting the data...\n",
      "Data loaded from cache\n",
      "via 1 stop(s): ['Palma, Majorca']\n",
      "to:  MAD\n",
      "departure time:  Tue 15-Dec-2020 18:30\n",
      "arrival time:  Tue 15-Dec-2020 22:55\n",
      "\n",
      "\n",
      "\n",
      "\n",
      "--OPTION  5\n",
      "link:  http://tinyurl.com/ydcxz5gw\n",
      "price:  89\n",
      "total duration:  5h40m\n",
      "\n",
      "\n",
      "outbound (duration: {'duration': '1h15m'})\n",
      "airlines:  ['Formosa Airlines']\n",
      "from:  MAD\n",
      "via 0 stop(s): []\n",
      "to:  BCN\n",
      "departure time:  Tue 01-Dec-2020 18:20\n",
      "arrival time:  Tue 01-Dec-2020 19:35\n",
      "inbound (duration: {'duration': '4h25m'})\n",
      "airlines:  ['Ryanair', 'Iberia Express']\n",
      "from:  BCN\n",
      "Getting the data...\n",
      "Data loaded from cache\n",
      "via 1 stop(s): ['Palma, Majorca']\n",
      "to:  MAD\n",
      "departure time:  Tue 15-Dec-2020 18:30\n",
      "arrival time:  Tue 15-Dec-2020 22:55\n",
      "\n",
      "\n",
      "\n",
      "\n"
     ]
    }
   ],
   "source": [
    "content = search(flight_type=inputs_round['flight_type'],\n",
    "                 apikey=inputs_round['apikey'],\n",
    "                 n=inputs_round['num_results'],\n",
    "                 parameters=parameters)"
   ]
  }
 ],
 "metadata": {
  "kernelspec": {
   "display_name": "Python 3",
   "language": "python",
   "name": "python3"
  },
  "language_info": {
   "codemirror_mode": {
    "name": "ipython",
    "version": 3
   },
   "file_extension": ".py",
   "mimetype": "text/x-python",
   "name": "python",
   "nbconvert_exporter": "python",
   "pygments_lexer": "ipython3",
   "version": "3.7.0"
  }
 },
 "nbformat": 4,
 "nbformat_minor": 4
}
